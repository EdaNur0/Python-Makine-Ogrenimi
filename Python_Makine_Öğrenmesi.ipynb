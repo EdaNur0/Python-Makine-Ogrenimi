{
  "nbformat": 4,
  "nbformat_minor": 0,
  "metadata": {
    "colab": {
      "provenance": [],
      "collapsed_sections": []
    },
    "kernelspec": {
      "name": "python3",
      "display_name": "Python 3"
    },
    "language_info": {
      "name": "python"
    }
  },
  "cells": [
    {
      "cell_type": "markdown",
      "source": [
        "# PYTHON İLE MAKİNE ÖĞRENMESİ\n",
        "* Verilerin olduğu her alan makine öğrenmesi için uygundur.\n",
        "* Makine öğrenmesi nerelerde kullanılır bakalım.\n",
        "   * Bilgisayarda görme\n",
        "   * Nesne tanıma \n",
        "   * Görüntü işleme\n",
        "   * Sanal gerçeklik \n",
        "   * Virtual reality\n",
        "   * Oyun\n",
        "   * Arttırılmış gerçeklik\n",
        "   * Ses tanıma\n",
        "   * Robotlar ve Hareketleri\n",
        "   * Pazarlama \n",
        "   * Müşteri ilişkileri memnuniyeti\n",
        "   * Tavsiye Algoritmaları\n",
        "   * Sağlık\n",
        "   * Uydu görüntüleri yer bilimi\n",
        "   * Sahtekarlık yakalama\n",
        "   * Arama motorları\n",
        "   * Endüstri 4.0\n",
        "   * IoT  "
      ],
      "metadata": {
        "id": "aFbhbbV93yVT"
      }
    },
    {
      "cell_type": "markdown",
      "source": [
        "#METODOLİJİ\n",
        "1. Veri ön işleme \n",
        "2. Modelleme\n",
        " * Tahmin \n",
        " * Doğrusal regresyon\n",
        " * Çoklu regresyon\n",
        " * Polinomal regresyon\n",
        " * Destek vektör ile tahmin\n",
        " * Karar ağacı ve tahmin\n",
        " * Rassal ağacı ve tahmin\n",
        " * Regresyon Modelleme\n",
        "3. Evaluation\n",
        "4. Deployment\n"
      ],
      "metadata": {
        "id": "XwFip5Kj7dFM"
      }
    },
    {
      "cell_type": "markdown",
      "source": [
        "#Veri Hazırlama"
      ],
      "metadata": {
        "id": "D0j4hcEM-vgA"
      }
    },
    {
      "cell_type": "code",
      "source": [
        "#Kütüphanelerin yüklenmesi\n",
        "import pandas as pd    # Veriler için kullandığımız kütüphane (Veri erişme,Düzgün şekilde tutabilme )\n",
        "import numpy as np     # Büyük sayılar ve hesaplama için kullandığımız kütüphane\n",
        "import matplotlib.pyplot as plt # Genellikle çizim için kullanılan kütüphane\n"
      ],
      "metadata": {
        "id": "mRLfrJd6-u0V"
      },
      "execution_count": null,
      "outputs": []
    },
    {
      "cell_type": "code",
      "source": [
        "#Veri yükleme\n",
        "veriler= pd.read_csv('veriler.csv' )   #Veri dosyamız .csv dosyasıdır. Verilerin arasında virgül olma durumu "
      ],
      "metadata": {
        "id": "_9-CLgb9ITbt"
      },
      "execution_count": null,
      "outputs": []
    },
    {
      "cell_type": "code",
      "source": [
        "print(veriler)"
      ],
      "metadata": {
        "colab": {
          "base_uri": "https://localhost:8080/"
        },
        "id": "cUwok7nGKZfQ",
        "outputId": "1e040e65-f59b-4cbc-c6cb-4c0a24d9389f"
      },
      "execution_count": null,
      "outputs": [
        {
          "output_type": "stream",
          "name": "stdout",
          "text": [
            "   ulke  boy  kilo  yas cinsiyet\n",
            "0    tr  130    30   10        e\n",
            "1    tr  125    36   11        e\n",
            "2    tr  135    34   10        k\n",
            "3    tr  133    30    9        k\n",
            "4    tr  129    38   12        e\n",
            "5    tr  180    90   30        e\n",
            "6    tr  190    80   25        e\n",
            "7    tr  175    90   35        e\n",
            "8    tr  177    60   22        k\n",
            "9    us  185   105   33        e\n",
            "10   us  165    55   27        k\n",
            "11   us  155    50   44        k\n",
            "12   us  160    58   39        k\n",
            "13   us  162    59   41        k\n",
            "14   us  167    62   55        k\n",
            "15   fr  174    70   47        e\n",
            "16   fr  193    90   23        e\n",
            "17   fr  187    80   27        e\n",
            "18   fr  183    88   28        e\n",
            "19   fr  159    40   29        k\n",
            "20   fr  164    66   32        k\n",
            "21   fr  166    56   42        k\n"
          ]
        }
      ]
    },
    {
      "cell_type": "code",
      "source": [
        "print(veriler['boy'])"
      ],
      "metadata": {
        "colab": {
          "base_uri": "https://localhost:8080/"
        },
        "id": "rw5O-zR_KdNt",
        "outputId": "7eb3d2dc-9395-4420-bc6b-f413ae5d8d1c"
      },
      "execution_count": null,
      "outputs": [
        {
          "output_type": "stream",
          "name": "stdout",
          "text": [
            "0     130\n",
            "1     125\n",
            "2     135\n",
            "3     133\n",
            "4     129\n",
            "5     180\n",
            "6     190\n",
            "7     175\n",
            "8     177\n",
            "9     185\n",
            "10    165\n",
            "11    155\n",
            "12    160\n",
            "13    162\n",
            "14    167\n",
            "15    174\n",
            "16    193\n",
            "17    187\n",
            "18    183\n",
            "19    159\n",
            "20    164\n",
            "21    166\n",
            "Name: boy, dtype: int64\n"
          ]
        }
      ]
    },
    {
      "cell_type": "markdown",
      "source": [
        "# Python ile Nesneye Yönelik Programlama\n",
        "\n",
        "* class ve object \n",
        "* Nesne yönelimli programlama, program içindeki öğeleri sınıflar ve nesneler olarak algılar.\n",
        "* \n"
      ],
      "metadata": {
        "id": "FqoutjTUzuoq"
      }
    },
    {
      "cell_type": "code",
      "source": [
        "class insan:     \n",
        "  boy=180\n",
        "  yaş=25\n",
        "  def kilo(self,b): #\n",
        "    return b - 5\n",
        "\n",
        "\n",
        "ali = insan()   #ali insan objesi haline geldi\n",
        "print(f'{ali.boy} cm')\n",
        "print(ali.yaş)\n",
        "print (ali.kilo(75))"
      ],
      "metadata": {
        "id": "5WA5N-Z_LlV5",
        "colab": {
          "base_uri": "https://localhost:8080/"
        },
        "outputId": "cb57cce7-605f-42a2-9e8d-1363c76b7b11"
      },
      "execution_count": null,
      "outputs": [
        {
          "output_type": "stream",
          "name": "stdout",
          "text": [
            "180 cm\n",
            "25\n",
            "70\n"
          ]
        }
      ]
    },
    {
      "cell_type": "code",
      "source": [
        "# __init__(): --> metot yardımıyla sınıftan farklı nesneler oluşturulabilir.\n",
        "class lise_sınıfları():\n",
        "  def __init__(self,isim,sube,cinsiyet,ortalama):\n",
        "    #yeni oluşturulan nesneyi ifade eder ve bir sınıfın yöntemleri ve nitelikleri de dahil olmak üzere tüm değişkenlerine hızlı bir şekilde erişmemizi sağlar. “self” parametresi ile her zaman “__init__” yöntemini kullanmamız gerekiyor.\n",
        "    self.isim=isim\n",
        "    self.sube=sube\n",
        "    self.cinsiyet=cinsiyet\n",
        "    self.ortalama=ortalama"
      ],
      "metadata": {
        "id": "nlJtEo_54HTb"
      },
      "execution_count": null,
      "outputs": []
    },
    {
      "cell_type": "code",
      "source": [
        "lise_sınıfları_ogr1=lise_sınıfları('eda','B','Kız','85,6')"
      ],
      "metadata": {
        "id": "h7m4yOhf7euH"
      },
      "execution_count": null,
      "outputs": []
    },
    {
      "cell_type": "code",
      "source": [
        "print(lise_sınıfları_ogr1.sube)\n",
        "print(lise_sınıfları_ogr1.ortalama)\n",
        "print(lise_sınıfları_ogr1.cinsiyet)"
      ],
      "metadata": {
        "colab": {
          "base_uri": "https://localhost:8080/"
        },
        "id": "8xNlxMVl7vAZ",
        "outputId": "56430321-043a-4af3-cea5-6e65d119ff41"
      },
      "execution_count": null,
      "outputs": [
        {
          "output_type": "stream",
          "name": "stdout",
          "text": [
            "B\n",
            "85,6\n",
            "Kız\n"
          ]
        }
      ]
    },
    {
      "cell_type": "markdown",
      "source": [
        "SİGORTA YAZILIMI\n",
        "* Sigorta şirketi için şirket bilgileri alma ve sigortaya uygun kişileri bulmak\n",
        "* Sigortaya uygun kişiler yaşları 60'dan küçük, geliri 6000 fazla ve kronik rahatsızlığı olmayan kişiler."
      ],
      "metadata": {
        "id": "k46_Hc_we9KF"
      }
    },
    {
      "cell_type": "code",
      "source": [
        "class sigorta:\n",
        "\n",
        "  def __init__(self,sirket_adi, kurulus_yili, kurucu_adi, sirket_slogan, calisan_sayisi, musteri):\n",
        "    self.sirket_adi=sirket_adi\n",
        "    self.kurulus_yili=kurulus_yili\n",
        "    self.kurucu_adi=kurucu_adi\n",
        "    self.sirket_slogan=sirket_slogan\n",
        "    self.calisan_sayisi=calisan_sayisi\n",
        "    self.musteri=musteri\n",
        "\n",
        "  def yazdir(self):\n",
        "    print(f'Şirket adı {self.sirket_adi}, Kuruluş yılı {self.kurulus_yili}, Kurucu adı {self.kurucu_adi}, Şirket sloganı {self.sirket_slogan}, Çalışan sayısı {self.calisan_sayisi}, Müşteri {self.musteri}')\n",
        "\n",
        "  def sigorta_uygunlugu(self, yas, kronik_rahatsızlık, par):\n",
        "    if yas >= 60 and kronik_rahatsızlık == True and par < 6000:\n",
        "      print('sigorta için uygun değilsiniz')\n",
        "    elif yas < 60 and par >= 6000 or kronik_rahatsızlık == False :\n",
        "      print('sigorta için uygun')\n",
        "\n",
        "  def sirket(self, yeni_num):\n",
        "    self.sirket=yeni_num\n",
        "    print(yeni_num)"
      ],
      "metadata": {
        "id": "pHcn_FsT8Y_r"
      },
      "execution_count": null,
      "outputs": []
    },
    {
      "cell_type": "code",
      "source": [
        "Bir_kişi = sigorta('Yazılım',2021,'Eda','Veri varsa gelecek var',15,'Özel şirket')\n"
      ],
      "metadata": {
        "id": "yDSHSp0RCftK"
      },
      "execution_count": null,
      "outputs": []
    },
    {
      "cell_type": "code",
      "source": [
        "Bir_kişi.yazdir()"
      ],
      "metadata": {
        "id": "VVAnQBJaFJr7",
        "outputId": "b7321888-e215-41fc-9fbf-c39d524121fd",
        "colab": {
          "base_uri": "https://localhost:8080/"
        }
      },
      "execution_count": null,
      "outputs": [
        {
          "output_type": "stream",
          "name": "stdout",
          "text": [
            "Şirket adı Yazılım, Kuruluş yılı 2021, Kurucu adı Eda, Şirket sloganı Veri varsa gelecek var, Çalışan sayısı 15, Müşteri Özel şirket\n"
          ]
        }
      ]
    },
    {
      "cell_type": "code",
      "source": [
        "Bir_kişi.sigorta_uygunlugu(25, False, 6000 )"
      ],
      "metadata": {
        "colab": {
          "base_uri": "https://localhost:8080/"
        },
        "id": "gqns82TyDDsI",
        "outputId": "3ca6a26e-5753-43f4-b441-340cbf0919a7"
      },
      "execution_count": null,
      "outputs": [
        {
          "output_type": "stream",
          "name": "stdout",
          "text": [
            "sigorta için uygun\n"
          ]
        }
      ]
    },
    {
      "cell_type": "code",
      "source": [
        "Bir_kişi.sirket(123654)"
      ],
      "metadata": {
        "colab": {
          "base_uri": "https://localhost:8080/"
        },
        "id": "1OQY0SF3EnbT",
        "outputId": "29fea5fa-17b0-479e-ef27-d615b5d2a255"
      },
      "execution_count": null,
      "outputs": [
        {
          "output_type": "stream",
          "name": "stdout",
          "text": [
            "123654\n"
          ]
        }
      ]
    },
    {
      "cell_type": "markdown",
      "source": [
        "LOJİSTİK ŞİRKET BİLGİ YAZILIMI\n",
        "*Şirketler hakkında temel bilgiler alınır."
      ],
      "metadata": {
        "id": "DUva4SdHfYb4"
      }
    },
    {
      "cell_type": "code",
      "source": [
        "class Lojistik:\n",
        "  def __init__(self,sirket_ad, kurulus_yil, sirket_slogani, envanter_alanı):\n",
        "    self.sirket_ad = sirket_ad\n",
        "    self.kurulus_yil = kurulus_yil\n",
        "    self.sirket_slogani = sirket_slogani\n",
        "    self.envanter_alanı = envanter_alanı\n",
        "\n",
        "  def yazdir(self):\n",
        "    print(f\"\"\"ŞİRKET ADI: {self.sirket_ad}, KURULUŞ YILI: {self.kurulus_yil}, \n",
        "    SLOGANIMIZ: {self.sirket_slogani}, ENVANTERİMİZ: {self.envanter_alanı}\"\"\")\n",
        "\n",
        "  def enventer_alan(self,degisken_enventer):\n",
        "    self.degisken_enventer = degisken_enventer\n",
        "    print(f'değişken enventerimiz : {self.degisken_enventer}')  "
      ],
      "metadata": {
        "id": "cdBuPlNyEwMK"
      },
      "execution_count": null,
      "outputs": []
    },
    {
      "cell_type": "code",
      "source": [
        "lojistik1= Lojistik('EY YAZILIM', 2022 , 'Yenilikler sizler için var ', 2500 )"
      ],
      "metadata": {
        "id": "vaA5Et-Cm7IU"
      },
      "execution_count": null,
      "outputs": []
    },
    {
      "cell_type": "code",
      "source": [
        "lojistik1.enventer_alan(3000)"
      ],
      "metadata": {
        "colab": {
          "base_uri": "https://localhost:8080/"
        },
        "id": "v6W9QYQTpZro",
        "outputId": "63e4ba02-8c66-4e11-847d-7717e2ff7ce9"
      },
      "execution_count": null,
      "outputs": [
        {
          "output_type": "stream",
          "name": "stdout",
          "text": [
            "değişken enventerimiz : 3000\n"
          ]
        }
      ]
    },
    {
      "cell_type": "markdown",
      "source": [
        "LOJİSTİK ŞİRKET BİLGİ YAZILIMI 2\n",
        "* Şirketler hakkında temel bilgi alınır.\n",
        "* Şirket gelir gider ve satış bilgileri alınır.\n",
        "* Şirket geliri hesaplanır."
      ],
      "metadata": {
        "id": "MI6AtxmKfmt7"
      }
    },
    {
      "cell_type": "code",
      "source": [
        "class ticaret:\n",
        "  def __init__(self,sirket_ad, kurulus_yil, sirket_slogani,satislar,giderler,gelir):\n",
        "    self.sirket_ad = sirket_ad\n",
        "    self.kurulus_yil = kurulus_yil\n",
        "    self.sirket_slogani = sirket_slogani\n",
        "    self.satislar = satislar\n",
        "    self.giderler = giderler\n",
        "    self.gelir = gelir\n",
        "\n",
        "  def yazdir(self):\n",
        "    print(f'SATIŞLAR: {self.satislar}, GİDERLER: {self.giderler}, GELİR {self.gelir}')\n",
        "\n",
        "  def güncelleme(self,satislar,giderler):    #Şirkete girilen veriden sonra en son bir farklılık var ise güncellemisi buradan yaparız\n",
        "    self.satislar = self.satislar + satislar\n",
        "    self.giderler += giderler\n",
        "\n",
        "  def işlem(self):\n",
        "    self.gelir=self.satislar - self.giderler\n",
        "    print(f'GELİRİMİZ: {self.gelir}')"
      ],
      "metadata": {
        "id": "Fa2OeUMypn4Y"
      },
      "execution_count": null,
      "outputs": []
    },
    {
      "cell_type": "code",
      "source": [
        "ticaret_1 = ticaret('E&YAZILIM', 2021,'Geleceğin daha iyi olması için E&YAZILIM', 200, 50, 150)"
      ],
      "metadata": {
        "id": "t8IBqjTgtXMy"
      },
      "execution_count": null,
      "outputs": []
    },
    {
      "cell_type": "code",
      "source": [
        "ticaret_1.yazdir()"
      ],
      "metadata": {
        "colab": {
          "base_uri": "https://localhost:8080/"
        },
        "id": "O6kFLtTxt4he",
        "outputId": "dc3cbd9e-033c-45fc-f197-a0f7f5ad819d"
      },
      "execution_count": null,
      "outputs": [
        {
          "output_type": "stream",
          "name": "stdout",
          "text": [
            "SATIŞLAR: 200, GİDERLER: 50, GELİR 150\n"
          ]
        }
      ]
    },
    {
      "cell_type": "code",
      "source": [
        "ticaret_1.güncelleme(300,100)"
      ],
      "metadata": {
        "id": "jZzB3a5huF2G"
      },
      "execution_count": null,
      "outputs": []
    },
    {
      "cell_type": "code",
      "source": [
        "ticaret_1.işlem()"
      ],
      "metadata": {
        "colab": {
          "base_uri": "https://localhost:8080/"
        },
        "id": "LBAwiK0BuVPV",
        "outputId": "fe8d054d-eaf2-4d18-e9da-5c274dcd36c3"
      },
      "execution_count": null,
      "outputs": [
        {
          "output_type": "stream",
          "name": "stdout",
          "text": [
            "GELİRİMİZ: 350\n"
          ]
        }
      ]
    },
    {
      "cell_type": "code",
      "source": [
        "ticaret_1.yazdir()"
      ],
      "metadata": {
        "colab": {
          "base_uri": "https://localhost:8080/"
        },
        "id": "8Z7CngbOvMlC",
        "outputId": "d3aa685e-1371-4ee0-8569-3bfe1a48d0e4"
      },
      "execution_count": null,
      "outputs": [
        {
          "output_type": "stream",
          "name": "stdout",
          "text": [
            "SATIŞLAR: 500, GİDERLER: 150, GELİR 350\n"
          ]
        }
      ]
    },
    {
      "cell_type": "markdown",
      "source": [],
      "metadata": {
        "id": "Ml2JoAyIf6G9"
      }
    },
    {
      "cell_type": "markdown",
      "source": [
        "#VERİLER (EKSİK VERİLER)\n",
        "* Makine öğrenmesinde eksik veriler bize sıkıntı çıkartacağı için onlara bir çözüm bulmamız gerekir."
      ],
      "metadata": {
        "id": "zb13bn-zgXVZ"
      }
    },
    {
      "cell_type": "code",
      "source": [
        "eksik_veriler = pd.read_csv('eksikveriler.csv')"
      ],
      "metadata": {
        "id": "StS3rYYyvSZq"
      },
      "execution_count": null,
      "outputs": []
    },
    {
      "cell_type": "code",
      "source": [
        "print(eksik_veriler)"
      ],
      "metadata": {
        "colab": {
          "base_uri": "https://localhost:8080/"
        },
        "id": "2OUrOOemhaCG",
        "outputId": "e57542f5-278c-4ad3-b236-415312bb9efb"
      },
      "execution_count": null,
      "outputs": [
        {
          "output_type": "stream",
          "name": "stdout",
          "text": [
            "   ulke  boy  kilo   yas cinsiyet\n",
            "0    tr  130    30  10.0        e\n",
            "1    tr  125    36  11.0        e\n",
            "2    tr  135    34  10.0        k\n",
            "3    tr  133    30   9.0        k\n",
            "4    tr  129    38  12.0        e\n",
            "5    tr  180    90  30.0        e\n",
            "6    tr  190    80  25.0        e\n",
            "7    tr  175    90  35.0        e\n",
            "8    tr  177    60  22.0        k\n",
            "9    us  185   105  33.0        e\n",
            "10   us  165    55  27.0        k\n",
            "11   us  155    50  44.0        k\n",
            "12   us  160    58   NaN        k\n",
            "13   us  162    59  41.0        k\n",
            "14   us  167    62  55.0        k\n",
            "15   fr  174    70  47.0        e\n",
            "16   fr  193    90   NaN        e\n",
            "17   fr  187    80  27.0        e\n",
            "18   fr  183    88  28.0        e\n",
            "19   fr  159    40  29.0        k\n",
            "20   fr  164    66  32.0        k\n",
            "21   fr  166    56  42.0        k\n"
          ]
        }
      ]
    },
    {
      "cell_type": "code",
      "source": [
        "print(eksik_veriler['yas'])"
      ],
      "metadata": {
        "colab": {
          "base_uri": "https://localhost:8080/"
        },
        "id": "NdwHjL05hk-N",
        "outputId": "6b1f36b1-3ff6-40d3-bfb3-a2021b8c0ef2"
      },
      "execution_count": null,
      "outputs": [
        {
          "output_type": "stream",
          "name": "stdout",
          "text": [
            "0     10.0\n",
            "1     11.0\n",
            "2     10.0\n",
            "3      9.0\n",
            "4     12.0\n",
            "5     30.0\n",
            "6     25.0\n",
            "7     35.0\n",
            "8     22.0\n",
            "9     33.0\n",
            "10    27.0\n",
            "11    44.0\n",
            "12     NaN\n",
            "13    41.0\n",
            "14    55.0\n",
            "15    47.0\n",
            "16     NaN\n",
            "17    27.0\n",
            "18    28.0\n",
            "19    29.0\n",
            "20    32.0\n",
            "21    42.0\n",
            "Name: yas, dtype: float64\n"
          ]
        }
      ]
    },
    {
      "cell_type": "code",
      "source": [
        "from sklearn.impute  import SimpleImputer\n",
        "\n",
        "imputer = SimpleImputer(missing_values= np.nan, strategy = 'mean' )  # SimpleImputer(missing_values= np.nan, strategy = 'bu kısma ne ile değiştirmek istiyoruz o yazılır' ) --> kalıp\n",
        "yas = veriler.iloc[0:,1:4].values\n",
        "print(yas)\n",
        "imputer = imputer.fit(yas[0:,1:4]) # fit ile öğretiliyor. \n",
        "yas[:,1:4] = imputer.transform(yas[0:,1:4]) #transform ile öğrendiğinin uygulanması söyleniyor.\n",
        "print(f'''yeni ----------\n",
        " {yas}''')"
      ],
      "metadata": {
        "colab": {
          "base_uri": "https://localhost:8080/"
        },
        "id": "hPcxtLUih9dW",
        "outputId": "6bd593b3-6965-45e5-bd1f-9be6e533920a"
      },
      "execution_count": null,
      "outputs": [
        {
          "output_type": "stream",
          "name": "stdout",
          "text": [
            "[[130  30  10]\n",
            " [125  36  11]\n",
            " [135  34  10]\n",
            " [133  30   9]\n",
            " [129  38  12]\n",
            " [180  90  30]\n",
            " [190  80  25]\n",
            " [175  90  35]\n",
            " [177  60  22]\n",
            " [185 105  33]\n",
            " [165  55  27]\n",
            " [155  50  44]\n",
            " [160  58  39]\n",
            " [162  59  41]\n",
            " [167  62  55]\n",
            " [174  70  47]\n",
            " [193  90  23]\n",
            " [187  80  27]\n",
            " [183  88  28]\n",
            " [159  40  29]\n",
            " [164  66  32]\n",
            " [166  56  42]]\n",
            "yeni ----------\n",
            " [[130  30  10]\n",
            " [125  36  11]\n",
            " [135  34  10]\n",
            " [133  30   9]\n",
            " [129  38  12]\n",
            " [180  90  30]\n",
            " [190  80  25]\n",
            " [175  90  35]\n",
            " [177  60  22]\n",
            " [185 105  33]\n",
            " [165  55  27]\n",
            " [155  50  44]\n",
            " [160  58  39]\n",
            " [162  59  41]\n",
            " [167  62  55]\n",
            " [174  70  47]\n",
            " [193  90  23]\n",
            " [187  80  27]\n",
            " [183  88  28]\n",
            " [159  40  29]\n",
            " [164  66  32]\n",
            " [166  56  42]]\n"
          ]
        }
      ]
    },
    {
      "cell_type": "markdown",
      "source": [
        "# Preparing data"
      ],
      "metadata": {
        "id": "qaoWayOLkyfO"
      }
    },
    {
      "cell_type": "code",
      "source": [
        "# İK departmanı, geçen ayki performanslarını değerlendirmek istiyor.\n",
        "performanslar = open('şirket_performanslar.txt',\"r\")  #okuma modunu açıyoruz\n",
        "veriler =performanslar.read() #dosya içeriğini okuyoruz"
      ],
      "metadata": {
        "id": "M5GVKVx5tPfq"
      },
      "execution_count": null,
      "outputs": []
    },
    {
      "cell_type": "markdown",
      "source": [],
      "metadata": {
        "id": "D7IfAhAJumE9"
      }
    },
    {
      "cell_type": "code",
      "source": [
        "print(veriler)"
      ],
      "metadata": {
        "colab": {
          "base_uri": "https://localhost:8080/"
        },
        "id": "88BE-2wIvwmb",
        "outputId": "8dd1d651-d30d-4cad-f1cf-24f762249e96"
      },
      "execution_count": null,
      "outputs": [
        {
          "output_type": "stream",
          "name": "stdout",
          "text": [
            "  Ben made 300 calls and generated 2400 dollars last Month with an 8$ average deal size.  \n",
            "omer called 10 times and Sold 2 courses generated 60 dollars last month with a 6$ average deal size.\n",
            "   KAren called 500 people and achieved success by GETting 24$ average deal size, got 12000 dollars revenue.     \n",
            "Celine with 70 calls, made 2275 dollars and 32$ average deal size IN the previous month.  \n",
            "     Sue called 100 people and earned 500 Dollars in REvenue and an AVERAGE DEAL SIZE of 5$ Last month.\n",
            "Bora called 100 people generated 770 dollars last month, his average deal size was 25$.  \n",
            "Rose made 600 phone calls and GENERATING 4000 dollars a past month 25$ average deal SIZE. \n",
            "Ellen made 800 calls and generated 6000 dollars a prior mONTH and reached 40$ the average deal size. \n",
            " bob made 200 phone calls, helped to make a proGress and generated 800 dollars LAST MONTH and gaining 15$ average deal size.\n",
            "Taylor, with 450 calls generated 1200 dollars in revenue pASt month, and the average deal size was 10$. \n",
            "  JuDE made 80 calls and earned 500 dollars for the company last month, her average deal size was 12$.\n",
            "\n"
          ]
        }
      ]
    },
    {
      "cell_type": "code",
      "source": [
        "# Bu yöntem, dizeyi satır sonlarında böler ve bunları bir listede döndürür.\n",
        "#splitlines()\n",
        "performanslar = veriler.splitlines()\n",
        "print(performanslar)"
      ],
      "metadata": {
        "colab": {
          "base_uri": "https://localhost:8080/"
        },
        "id": "V4uvhdpKvz-B",
        "outputId": "7134bcc3-77ea-482e-83d5-16d0ab0e5ac6"
      },
      "execution_count": null,
      "outputs": [
        {
          "output_type": "stream",
          "name": "stdout",
          "text": [
            "['  Ben made 300 calls and generated 2400 dollars last Month with an 8$ average deal size.  ', 'omer called 10 times and Sold 2 courses generated 60 dollars last month with a 6$ average deal size.', '   KAren called 500 people and achieved success by GETting 24$ average deal size, got 12000 dollars revenue.     ', 'Celine with 70 calls, made 2275 dollars and 32$ average deal size IN the previous month.  ', '     Sue called 100 people and earned 500 Dollars in REvenue and an AVERAGE DEAL SIZE of 5$ Last month.', 'Bora called 100 people generated 770 dollars last month, his average deal size was 25$.  ', 'Rose made 600 phone calls and GENERATING 4000 dollars a past month 25$ average deal SIZE. ', 'Ellen made 800 calls and generated 6000 dollars a prior mONTH and reached 40$ the average deal size. ', ' bob made 200 phone calls, helped to make a proGress and generated 800 dollars LAST MONTH and gaining 15$ average deal size.', 'Taylor, with 450 calls generated 1200 dollars in revenue pASt month, and the average deal size was 10$. ', '  JuDE made 80 calls and earned 500 dollars for the company last month, her average deal size was 12$.']\n"
          ]
        }
      ]
    },
    {
      "cell_type": "code",
      "source": [
        "satır = performanslar[0]\n",
        "print(satır)\n",
        "#Şimdi her satırın listenin bir öğesi olduğunu ve bir çalışana karşılık geldiğini görebiliriz"
      ],
      "metadata": {
        "colab": {
          "base_uri": "https://localhost:8080/"
        },
        "id": "PlhdrXE0wveG",
        "outputId": "05971d9f-b6e2-41f0-9c12-235f290720c5"
      },
      "execution_count": null,
      "outputs": [
        {
          "output_type": "stream",
          "name": "stdout",
          "text": [
            "  Ben made 300 calls and generated 2400 dollars last Month with an 8$ average deal size.  \n"
          ]
        }
      ]
    },
    {
      "cell_type": "code",
      "source": [
        "#Dizenin kenarlarındaki boşlukları kaldıracaktır.\n",
        "#strip()\n",
        "satır = satır.strip(\" \")   # (\"buraya baştan silmek istediğiniz şeyleri yazıyoruz\")\n",
        "print(satır)"
      ],
      "metadata": {
        "colab": {
          "base_uri": "https://localhost:8080/"
        },
        "id": "3Hr58W0nw-nt",
        "outputId": "2794919c-e12f-47a4-9f71-64cb3b300652"
      },
      "execution_count": null,
      "outputs": [
        {
          "output_type": "stream",
          "name": "stdout",
          "text": [
            "Ben made 300 calls and generated 2400 dollars last Month with an 8$ average deal size.\n"
          ]
        }
      ]
    },
    {
      "cell_type": "code",
      "source": [
        "# Tüm dizeyi küçük harfe çevrilecektir\n",
        "#lower()\n",
        "satır = satır.lower()\n",
        "print(satır)"
      ],
      "metadata": {
        "colab": {
          "base_uri": "https://localhost:8080/"
        },
        "id": "_8miOJQVycqS",
        "outputId": "fe88029d-4d03-406c-c812-b2798db8c3d6"
      },
      "execution_count": null,
      "outputs": [
        {
          "output_type": "stream",
          "name": "stdout",
          "text": [
            "ben made 300 calls and generated 2400 dollars last month with an 8$ average deal size.\n"
          ]
        }
      ]
    },
    {
      "cell_type": "code",
      "source": [
        "# İlk harfin büyük olması için kullanılır.\n",
        "#capitalize()\n",
        "satır = satır.capitalize()\n",
        "print(satır)"
      ],
      "metadata": {
        "colab": {
          "base_uri": "https://localhost:8080/"
        },
        "id": "efS_lcryy9GR",
        "outputId": "d7b05c55-119e-4fce-8a08-dde04bbfbbf5"
      },
      "execution_count": null,
      "outputs": [
        {
          "output_type": "stream",
          "name": "stdout",
          "text": [
            "Ben made 300 calls and generated 2400 dollars last month with an 8$ average deal size.\n"
          ]
        }
      ]
    },
    {
      "cell_type": "code",
      "source": [
        "#Dizeyi bölmek ve her kelimeyi bir listede bir öğe olarak saklamak için kullanılır.\n",
        "#split(\" \")\n",
        "tek_tek_Ayırmak = satır.split(\" \")\n",
        "print(tek_tek_Ayırmak)"
      ],
      "metadata": {
        "colab": {
          "base_uri": "https://localhost:8080/"
        },
        "id": "o33l8qhuz21S",
        "outputId": "e02bb579-f589-45c3-818e-9ab62a6663cc"
      },
      "execution_count": null,
      "outputs": [
        {
          "output_type": "stream",
          "name": "stdout",
          "text": [
            "['Ben', 'made', '300', 'calls', 'and', 'generated', '2400', 'dollars', 'last', 'month', 'with', 'an', '8$', 'average', 'deal', 'size.']\n"
          ]
        }
      ]
    },
    {
      "cell_type": "code",
      "source": [
        "print(tek_tek_Ayırmak[0])"
      ],
      "metadata": {
        "colab": {
          "base_uri": "https://localhost:8080/"
        },
        "id": "LMlQtiCR0a6x",
        "outputId": "5bcff621-17ba-4d79-8221-e0016734794c"
      },
      "execution_count": null,
      "outputs": [
        {
          "output_type": "stream",
          "name": "stdout",
          "text": [
            "Ben\n"
          ]
        }
      ]
    },
    {
      "cell_type": "code",
      "source": [
        "# 0 indekse baktığımızda isim tutuyor\n",
        "isim = tek_tek_Ayırmak[0]"
      ],
      "metadata": {
        "id": "JmsN-toN0hOm"
      },
      "execution_count": null,
      "outputs": []
    },
    {
      "cell_type": "code",
      "source": [
        "print(tek_tek_Ayırmak[1])"
      ],
      "metadata": {
        "colab": {
          "base_uri": "https://localhost:8080/"
        },
        "id": "qSB8QxTu0qkp",
        "outputId": "c229901c-8173-4673-ae22-dde87eaf832e"
      },
      "execution_count": null,
      "outputs": [
        {
          "output_type": "stream",
          "name": "stdout",
          "text": [
            "made\n"
          ]
        }
      ]
    },
    {
      "cell_type": "code",
      "source": [
        "# 1 indeksten sonuç çıkartamadık. 2. indekse bakalım\n",
        "print(tek_tek_Ayırmak[2])"
      ],
      "metadata": {
        "colab": {
          "base_uri": "https://localhost:8080/"
        },
        "id": "DOAHlOwH01pL",
        "outputId": "fe4efcf9-0820-4ea1-bf18-22442465e200"
      },
      "execution_count": null,
      "outputs": [
        {
          "output_type": "stream",
          "name": "stdout",
          "text": [
            "300\n"
          ]
        }
      ]
    },
    {
      "cell_type": "code",
      "source": [
        "#Çalışanın yaptığı arama sayısı tutuyor\n",
        "arama_sayısı = tek_tek_Ayırmak[2]"
      ],
      "metadata": {
        "id": "FLTcYxDT0-zd"
      },
      "execution_count": null,
      "outputs": []
    },
    {
      "cell_type": "code",
      "source": [
        "#Ortalama anlaşma(gelir tutarını bulmak) boyutunu çıkarmak için '$' işareti kullanacağız.\n",
        "for i in tek_tek_Ayırmak:\n",
        "  if '$' in i:\n",
        "    aranan_deger = i.split('$')[0]\n",
        "\n",
        "print(aranan_deger)"
      ],
      "metadata": {
        "colab": {
          "base_uri": "https://localhost:8080/"
        },
        "id": "N_dJIeBc1LDO",
        "outputId": "6b115544-582a-47bd-8bd1-9860db987235"
      },
      "execution_count": null,
      "outputs": [
        {
          "output_type": "stream",
          "name": "stdout",
          "text": [
            "8\n"
          ]
        }
      ]
    },
    {
      "cell_type": "code",
      "source": [
        "#Gelir tutarının indeksini bulalım.\n",
        "\n",
        "dolar_indeksi = tek_tek_Ayırmak.index('dollars')\n",
        "print(dolar_indeksi)"
      ],
      "metadata": {
        "colab": {
          "base_uri": "https://localhost:8080/"
        },
        "id": "_PtDB1Yf9DOx",
        "outputId": "e5dd330a-b1da-4749-ed7a-28a6cbb0a85c"
      },
      "execution_count": null,
      "outputs": [
        {
          "output_type": "stream",
          "name": "stdout",
          "text": [
            "7\n"
          ]
        }
      ]
    },
    {
      "cell_type": "code",
      "source": [
        "#“dolar” kelimesinin geçtiği elementin indeksini bulalım.\n",
        "#Bu ipucu yardımıyla, gelir tutarının indeksini bulmak için “dolar” unsurunun indeksinden 1 çıkarıyoruz.\n",
        "\n",
        "gelir_indeksi = dolar_indeksi - 1\n",
        "print(gelir_indeksi)"
      ],
      "metadata": {
        "colab": {
          "base_uri": "https://localhost:8080/"
        },
        "id": "bLfDMYUl9k3n",
        "outputId": "6ea00ade-d56f-4f75-c6ae-5947a0e3cdc0"
      },
      "execution_count": null,
      "outputs": [
        {
          "output_type": "stream",
          "name": "stdout",
          "text": [
            "6\n"
          ]
        }
      ]
    },
    {
      "cell_type": "code",
      "source": [
        "gelir = tek_tek_Ayırmak[gelir_indeksi]\n",
        "print(gelir)"
      ],
      "metadata": {
        "colab": {
          "base_uri": "https://localhost:8080/"
        },
        "id": "r9mg1XkL_IoA",
        "outputId": "d15df244-2b67-4b0b-b3bd-9d06bbdb9a66"
      },
      "execution_count": null,
      "outputs": [
        {
          "output_type": "stream",
          "name": "stdout",
          "text": [
            "2400\n"
          ]
        }
      ]
    },
    {
      "cell_type": "code",
      "source": [
        "print('İSİM: ', isim)\n",
        "print('ARAMA SAYISI: ', arama_sayısı)\n",
        "print('DOLAR İNDEKSİ: ', dolar_indeksi)\n",
        "print('GELİR: ', gelir)"
      ],
      "metadata": {
        "colab": {
          "base_uri": "https://localhost:8080/"
        },
        "id": "t3kH2Ptj-VF0",
        "outputId": "2b69d1b0-6bf4-4614-88a6-e9dca0aaba44"
      },
      "execution_count": null,
      "outputs": [
        {
          "output_type": "stream",
          "name": "stdout",
          "text": [
            "İSİM:  Ben\n",
            "ARAMA SAYISI:  300\n",
            "DOLAR İNDEKSİ:  7\n",
            "GELİR:  2400\n"
          ]
        }
      ]
    },
    {
      "cell_type": "code",
      "source": [
        "dolar_indeksi = int(dolar_indeksi)\n",
        "arama_sayısı = int(arama_sayısı)\n",
        "gelir = int(gelir)"
      ],
      "metadata": {
        "id": "xlIutPD1_esV"
      },
      "execution_count": null,
      "outputs": []
    },
    {
      "cell_type": "code",
      "source": [
        "print('İSİM: ', type(isim))\n",
        "print('ARAMA SAYISI: ', type(arama_sayısı))\n",
        "print('DOLAR İNDEKSİ: ', type(dolar_indeksi))\n",
        "print('GELİR: ', type(gelir))"
      ],
      "metadata": {
        "colab": {
          "base_uri": "https://localhost:8080/"
        },
        "id": "TTj3JHJF_6gf",
        "outputId": "35bb7790-6c83-443b-a7d6-4c1827b89f75"
      },
      "execution_count": null,
      "outputs": [
        {
          "output_type": "stream",
          "name": "stdout",
          "text": [
            "İSİM:  <class 'str'>\n",
            "ARAMA SAYISI:  <class 'int'>\n",
            "DOLAR İNDEKSİ:  <class 'int'>\n",
            "GELİR:  <class 'int'>\n"
          ]
        }
      ]
    },
    {
      "cell_type": "code",
      "source": [
        "# Diğer verilerimizi de düzenlememiz gerekiyor.\n",
        "\n",
        "isimler = []\n",
        "arama_sayıları = []\n",
        "dolar_indeksleri = []\n",
        "gelirler = []"
      ],
      "metadata": {
        "id": "mLhQuQ8JAG9k"
      },
      "execution_count": null,
      "outputs": []
    },
    {
      "cell_type": "code",
      "source": [
        "def yeniden(performanslar):\n",
        "\n",
        " for satır in performanslar:\n",
        "   satır = satır.strip(\" \")\n",
        "   satır = satır.lower()\n",
        "   satır = satır.capitalize()\n",
        "\n",
        "   tek_tek_Ayırmak = satır.split(\" \")\n",
        "\n",
        "   isim= tek_tek_Ayırmak[0]\n",
        "   arama_sayısı = tek_tek_Ayırmak[2]\n",
        "\n",
        "   for i in tek_tek_Ayırmak:\n",
        "     if '$' in i:\n",
        "       aranan_deger = i\n",
        "       aranan_deger = i.split('$')[0]\n",
        "\n",
        "   dolar_indeksi = tek_tek_Ayırmak.index('dollars')\n",
        "   gelir_indeksi = dolar_indeksi - 1\n",
        "   gelir=tek_tek_Ayırmak[gelir_indeksi]\n",
        "\n",
        "   dolar_indeksi = int(dolar_indeksi)\n",
        "   arama_sayısı = int(arama_sayısı)\n",
        "   gelir = int(gelir)\n",
        "\n",
        "   isimler.append(isim)\n",
        "   arama_sayıları.append(arama_sayısı)\n",
        "   dolar_indeksleri.append(dolar_indeksi)\n",
        "   gelirler.append(gelir)\n",
        "\n",
        " return isimler, arama_sayıları, dolar_indeksleri, gelirler"
      ],
      "metadata": {
        "id": "vCwXONv1AyKw"
      },
      "execution_count": null,
      "outputs": []
    },
    {
      "cell_type": "code",
      "source": [
        "isimler, arama_sayiları, dolar_indeksleri, gelirler = yeniden(performanslar)"
      ],
      "metadata": {
        "id": "CU8grBwTIreX"
      },
      "execution_count": null,
      "outputs": []
    },
    {
      "cell_type": "code",
      "source": [
        "print(f''' İSİMLER\n",
        "{isimler}\n",
        "ARAMA SAYILARI\n",
        "{arama_sayıları}\n",
        "DOLAR İNDEKSLERİ\n",
        "{dolar_indeksleri}\n",
        "GELİRLER\n",
        "{gelirler}''' )"
      ],
      "metadata": {
        "colab": {
          "base_uri": "https://localhost:8080/"
        },
        "id": "KR7p57NTEb6p",
        "outputId": "1bed0d52-10b2-46e7-aaf2-81a7888300ed"
      },
      "execution_count": null,
      "outputs": [
        {
          "output_type": "stream",
          "name": "stdout",
          "text": [
            " İSİMLER\n",
            "['Ben', 'Omer', 'Karen', 'Celine', 'Sue', 'Bora', 'Rose', 'Ellen', 'Bob', 'Taylor,', 'Jude']\n",
            "ARAMA SAYILARI\n",
            "[300, 10, 500, 70, 100, 100, 600, 800, 200, 450, 80]\n",
            "DOLAR İNDEKSLERİ\n",
            "[7, 10, 15, 6, 7, 6, 8, 7, 13, 6, 7]\n",
            "GELİRLER\n",
            "[2400, 60, 12000, 2275, 500, 770, 4000, 6000, 800, 1200, 500]\n"
          ]
        }
      ]
    },
    {
      "cell_type": "code",
      "source": [
        "print(len(isimler))"
      ],
      "metadata": {
        "colab": {
          "base_uri": "https://localhost:8080/"
        },
        "id": "m2rTHqJ2LL09",
        "outputId": "f7adf907-bd5e-4e7e-f75b-1072f5310663"
      },
      "execution_count": null,
      "outputs": [
        {
          "output_type": "stream",
          "name": "stdout",
          "text": [
            "11\n"
          ]
        }
      ]
    },
    {
      "cell_type": "code",
      "source": [
        "IDler = list(range(0,11))\n",
        "print(IDler)"
      ],
      "metadata": {
        "colab": {
          "base_uri": "https://localhost:8080/"
        },
        "id": "e0PLqqeRLaUV",
        "outputId": "97114377-adee-4b00-fd01-ed491febedb5"
      },
      "execution_count": null,
      "outputs": [
        {
          "output_type": "stream",
          "name": "stdout",
          "text": [
            "[0, 1, 2, 3, 4, 5, 6, 7, 8, 9, 10]\n"
          ]
        }
      ]
    },
    {
      "cell_type": "code",
      "source": [
        "len(IDler)"
      ],
      "metadata": {
        "colab": {
          "base_uri": "https://localhost:8080/"
        },
        "id": "SfI73ZELLjGu",
        "outputId": "4e9fa44b-7941-4812-8335-ac88081cf682"
      },
      "execution_count": null,
      "outputs": [
        {
          "output_type": "execute_result",
          "data": {
            "text/plain": [
              "11"
            ]
          },
          "metadata": {},
          "execution_count": 177
        }
      ]
    },
    {
      "cell_type": "code",
      "source": [
        "#Zip() yöntemi, bağımsız değişken olarak ilettiğiniz tüm değerlerin çiftler olarak depolandığı, yinelenebilir bir tanımlama grubu nesnesi oluşturur.\n",
        "# dict ile IDler ile isimeri sözlüğe dönüştürdük (key,values)\n",
        "değişkenler = dict(zip(IDler, isimler))\n",
        "print(değişkenler)"
      ],
      "metadata": {
        "colab": {
          "base_uri": "https://localhost:8080/"
        },
        "id": "ofiV2n2pLlqK",
        "outputId": "40f2ebe1-3675-4cc7-868b-1a0a2a20b557"
      },
      "execution_count": null,
      "outputs": [
        {
          "output_type": "stream",
          "name": "stdout",
          "text": [
            "{0: 'Ben', 1: 'Omer', 2: 'Karen', 3: 'Celine', 4: 'Sue', 5: 'Bora', 6: 'Rose', 7: 'Ellen', 8: 'Bob', 9: 'Taylor,', 10: 'Jude'}\n"
          ]
        }
      ]
    },
    {
      "cell_type": "code",
      "source": [
        "değişkenler_adları=dict(zip(gelirler,isimler))\n",
        "print(değişkenler_adları)"
      ],
      "metadata": {
        "colab": {
          "base_uri": "https://localhost:8080/"
        },
        "id": "VVQTe2g3Nbys",
        "outputId": "a27e263e-abe6-4390-aeee-3eb85d843dd1"
      },
      "execution_count": null,
      "outputs": [
        {
          "output_type": "stream",
          "name": "stdout",
          "text": [
            "{2400: 'Ben', 60: 'Omer', 12000: 'Karen', 2275: 'Celine', 500: 'Jude', 770: 'Bora', 4000: 'Rose', 6000: 'Ellen', 800: 'Bob', 1200: 'Taylor,'}\n"
          ]
        }
      ]
    },
    {
      "cell_type": "code",
      "source": [
        "#Gelir düzenini artana göre sıralama\n",
        "#sorted\n",
        "artan_sıralama = sorted(değişkenler_adları)\n",
        "print(artan_sıralama)\n"
      ],
      "metadata": {
        "colab": {
          "base_uri": "https://localhost:8080/"
        },
        "id": "FMwiEBcnMdDD",
        "outputId": "1ca22af5-95f1-47a9-e988-3f1fba821304"
      },
      "execution_count": null,
      "outputs": [
        {
          "output_type": "stream",
          "name": "stdout",
          "text": [
            "[60, 500, 770, 800, 1200, 2275, 2400, 4000, 6000, 12000]\n"
          ]
        }
      ]
    },
    {
      "cell_type": "code",
      "source": [
        "artan_sıralama= sorted(değişkenler_adları)[0:3]\n",
        "for i in artan_sıralama:\n",
        "  print(değişkenler_adları[i])"
      ],
      "metadata": {
        "colab": {
          "base_uri": "https://localhost:8080/"
        },
        "id": "t3hYG8diOX-u",
        "outputId": "b4db98e8-8ae9-49dd-ac83-54b14c97b103"
      },
      "execution_count": null,
      "outputs": [
        {
          "output_type": "stream",
          "name": "stdout",
          "text": [
            "Omer\n",
            "Jude\n",
            "Bora\n"
          ]
        }
      ]
    },
    {
      "cell_type": "code",
      "source": [
        "artan_sıralama = sorted(değişkenler_adları, reverse = True)[0:3]\n",
        "\n",
        "for i in artan_sıralama:\n",
        "  print(değişkenler_adları[i])"
      ],
      "metadata": {
        "colab": {
          "base_uri": "https://localhost:8080/"
        },
        "id": "TucYYMEnOxG5",
        "outputId": "8d303688-8680-406f-ae04-b8bd85f6f35f"
      },
      "execution_count": null,
      "outputs": [
        {
          "output_type": "stream",
          "name": "stdout",
          "text": [
            "Karen\n",
            "Ellen\n",
            "Rose\n"
          ]
        }
      ]
    }
  ]
}