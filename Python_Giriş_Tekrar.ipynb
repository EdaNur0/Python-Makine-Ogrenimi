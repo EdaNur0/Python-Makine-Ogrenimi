{
  "nbformat": 4,
  "nbformat_minor": 0,
  "metadata": {
    "colab": {
      "provenance": []
    },
    "kernelspec": {
      "name": "python3",
      "display_name": "Python 3"
    },
    "language_info": {
      "name": "python"
    }
  },
  "cells": [
    {
      "cell_type": "code",
      "execution_count": null,
      "metadata": {
        "id": "Os1yh8wwNnJQ"
      },
      "outputs": [],
      "source": [
        "ad = 'EDA'\n",
        "soyad = 'YANIK'\n",
        "yaş = 25\n",
        "kimlik_num = 123456\n",
        "ikamet = 'Ankara'\n",
        "saglık= True\n",
        "uyruk = 'T.C.'"
      ]
    },
    {
      "cell_type": "code",
      "source": [
        "print(f'İsmim {ad}, soyadım {soyad}, {yaş} yaşındayım, {ikamet} yaşıyorum ')"
      ],
      "metadata": {
        "colab": {
          "base_uri": "https://localhost:8080/"
        },
        "id": "hWBTwAsoO08s",
        "outputId": "d9bbe556-6e35-406b-e428-b93dc7a74a6c"
      },
      "execution_count": null,
      "outputs": [
        {
          "output_type": "stream",
          "name": "stdout",
          "text": [
            "İsmim EDA, soyadım YANIK, 25 yaşındayım, Ankara yaşıyorum \n"
          ]
        }
      ]
    },
    {
      "cell_type": "code",
      "source": [
        "ögeler = ['laptop', 'kulaklık', 'ikinci monitör', 'mousepad', 'usb sürücüsü', 'harici sürüc' ]"
      ],
      "metadata": {
        "id": "P_cWBj-NPNfa"
      },
      "execution_count": null,
      "outputs": []
    },
    {
      "cell_type": "code",
      "source": [
        "print(ögeler)"
      ],
      "metadata": {
        "colab": {
          "base_uri": "https://localhost:8080/"
        },
        "id": "OdNXyhCfQQ5I",
        "outputId": "806cf7a2-8bc9-49e3-cd98-6f029309b682"
      },
      "execution_count": null,
      "outputs": [
        {
          "output_type": "stream",
          "name": "stdout",
          "text": [
            "['laptop', 'kulaklık', 'ikinci monitör', 'mousepad', 'usb sürücüsü', 'harici sürüc']\n"
          ]
        }
      ]
    },
    {
      "cell_type": "code",
      "source": [
        "ihtiyaç= ögeler[0:3]\n",
        "istek=ögeler[3:]"
      ],
      "metadata": {
        "id": "WICbWtVaQYjr"
      },
      "execution_count": null,
      "outputs": []
    },
    {
      "cell_type": "code",
      "source": [
        "print(ihtiyaç)\n",
        "print(istek)"
      ],
      "metadata": {
        "colab": {
          "base_uri": "https://localhost:8080/"
        },
        "id": "I1qGVyh5Quhm",
        "outputId": "2ca7dbb6-5901-44e1-b561-24c402d1a44c"
      },
      "execution_count": null,
      "outputs": [
        {
          "output_type": "stream",
          "name": "stdout",
          "text": [
            "['laptop', 'kulaklık', 'ikinci monitör']\n",
            "['mousepad', 'usb sürücüsü', 'harici sürüc']\n"
          ]
        }
      ]
    },
    {
      "cell_type": "code",
      "source": [
        "ad =str(input('isminizi giriniz: '))\n",
        "soyad = str(input('Soyadınızı giriniz: '))\n",
        "yas= int(input('Yaşınızı giriniz: '))\n",
        "ihtiyaç_duyulan_öge = str(input('İhtiyaç duyulan ögeleri giriniz: '))\n",
        "\n",
        "bilgiler=[ad,soyad,yas]\n",
        "ögelerr=[ihtiyaç_duyulan_öge]\n",
        "\n",
        "print(bilgiler)\n",
        "print(ögelerr)"
      ],
      "metadata": {
        "colab": {
          "base_uri": "https://localhost:8080/"
        },
        "id": "p9Z3twNAREfD",
        "outputId": "cf048fb2-3f7f-4cc2-8601-8599df60edd0"
      },
      "execution_count": null,
      "outputs": [
        {
          "output_type": "stream",
          "name": "stdout",
          "text": [
            "isminizi giriniz: EDA\n",
            "Soyadınızı giriniz: YANIK\n",
            "Yaşınızı giriniz: 25\n",
            "İhtiyaç duyulan ögeleri giriniz: BİLGİSAYAR EKRANI, USB\n",
            "['EDA', 'YANIK', 25]\n",
            "['BİLGİSAYAR EKRANI, USB']\n"
          ]
        }
      ]
    }
  ]
}